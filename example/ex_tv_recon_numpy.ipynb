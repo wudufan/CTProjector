{
 "cells": [
  {
   "cell_type": "code",
   "execution_count": null,
   "metadata": {},
   "outputs": [],
   "source": [
    "import numpy as np\n",
    "import matplotlib.pyplot as plt\n",
    "import SimpleITK as sitk"
   ]
  },
  {
   "cell_type": "code",
   "execution_count": null,
   "metadata": {},
   "outputs": [],
   "source": [
    "import ct_projector.projector.numpy as ct_projector\n",
    "import ct_projector.projector.numpy.parallel as ct_para\n",
    "import ct_projector.prior.numpy as ct_prior\n",
    "import ct_projector.recon.numpy as ct_recon\n",
    "\n",
    "print('Recon Backend:', ct_recon.BACKEND)"
   ]
  },
  {
   "cell_type": "code",
   "execution_count": null,
   "metadata": {},
   "outputs": [],
   "source": [
    "# load a sample CT image\n",
    "filename = './3.nii.gz'\n",
    "ct = sitk.ReadImage(filename)\n",
    "spacing = ct.GetSpacing()\n",
    "img = sitk.GetArrayFromImage(ct)\n",
    "\n",
    "# convert image from HU to attenuation coefficient\n",
    "# This is the approximate relationship\n",
    "img = (img.astype(np.float32) + 1024) / 1000\n",
    "img[img < 0] = 0\n",
    "\n",
    "# also convert to image to our projector dimension batch, z, y, x\n",
    "img = img[np.newaxis,...]\n",
    "img = img[:, ::-1, ...]\n",
    "img = np.copy(img, 'C')\n",
    "spacing = np.array(spacing[::-1])"
   ]
  },
  {
   "cell_type": "code",
   "execution_count": null,
   "metadata": {},
   "outputs": [],
   "source": [
    "img_ref = img[:, [img.shape[1]//2], ...]\n",
    "\n",
    "plt.figure(figsize=[8, 8])\n",
    "plt.imshow(img_ref[0, 0], 'gray', vmin=0, vmax=1.2)"
   ]
  },
  {
   "cell_type": "code",
   "execution_count": null,
   "metadata": {},
   "outputs": [],
   "source": [
    "device = 0\n",
    "down_rate = 16"
   ]
  },
  {
   "cell_type": "code",
   "execution_count": null,
   "metadata": {},
   "outputs": [],
   "source": [
    "projector = ct_projector.ct_projector()\n",
    "projector.from_file('projector_fan.cfg')\n",
    "projector.nv = 1\n",
    "projector.nz = 1\n",
    "projector.ny = img_ref.shape[2]\n",
    "projector.nx = img_ref.shape[3]\n",
    "projector.du = projector.du * projector.dso / projector.dsd\n",
    "angles = projector.get_angles()\n",
    "angles_sparse = np.copy(angles[::down_rate], 'C')"
   ]
  },
  {
   "cell_type": "code",
   "execution_count": null,
   "metadata": {},
   "outputs": [],
   "source": [
    "ct_projector.set_device(device)\n",
    "ct_prior.set_device(device)\n",
    "\n",
    "ref = np.array(img_ref, order='C')\n",
    "angles = np.array(angles, order='C')\n",
    "angles_sparse = np.array(angles_sparse, order='C')\n",
    "\n",
    "projector.set_projector(ct_para.distance_driven_fp, angles=angles_sparse)\n",
    "projector.set_backprojector(ct_para.distance_driven_bp, angles=angles_sparse)"
   ]
  },
  {
   "cell_type": "code",
   "execution_count": null,
   "metadata": {},
   "outputs": [],
   "source": [
    "prj = projector.fp(ref, angles=angles)\n",
    "fprj = ct_para.ramp_filter(projector, prj, 'rl')\n",
    "fbp = ct_para.distance_driven_bp(projector, fprj, angles, True)\n",
    "\n",
    "plt.figure(figsize=[8, 8])\n",
    "plt.imshow(fbp[0, 0], 'gray', vmin=0, vmax=1.2)"
   ]
  },
  {
   "cell_type": "code",
   "execution_count": null,
   "metadata": {},
   "outputs": [],
   "source": [
    "prj_sparse = projector.fp(ref, angles=angles_sparse)\n",
    "fprj = ct_para.ramp_filter(projector, prj_sparse, 'rl')\n",
    "fbp_sparse = ct_para.distance_driven_bp(projector, fprj, angles_sparse, True)\n",
    "\n",
    "plt.figure(figsize=[8, 8])\n",
    "plt.imshow(fbp_sparse[0, 0], 'gray', vmin=0, vmax=1.2)"
   ]
  },
  {
   "cell_type": "code",
   "execution_count": null,
   "metadata": {},
   "outputs": [],
   "source": [
    "# TV reconstruction\n",
    "niter = 1000\n",
    "nos = 12\n",
    "nesterov = 0.5\n",
    "beta = 0.0001\n",
    "zero_init = True\n",
    "\n",
    "projector.nview = len(angles_sparse)\n",
    "projector_norm = projector.calc_projector_norm()\n",
    "norm_img = projector.calc_norm_img() / projector_norm / projector_norm\n",
    "\n",
    "fbp_sparse = np.array(fbp_sparse, order='C')\n",
    "if zero_init:\n",
    "    recon = np.zeros(fbp_sparse.shape, np.float32)\n",
    "    nesterov_img = np.zeros(fbp_sparse.shape, np.float32)\n",
    "else:    \n",
    "    recon = np.copy(fbp_sparse)\n",
    "    nesterov_img = np.copy(recon)\n",
    "\n",
    "for i in range(niter):\n",
    "    for os in range(nos):\n",
    "        inds = np.arange(os, len(angles_sparse), nos)\n",
    "        angles_current = np.copy(angles_sparse[inds], 'C')\n",
    "        prj_current = np.copy(prj_sparse[:, inds, ...], 'C')\n",
    "\n",
    "        recon = ct_recon.sqs_one_step(\n",
    "            projector,\n",
    "            nesterov_img,\n",
    "            prj_current,\n",
    "            norm_img,\n",
    "            projector_norm,\n",
    "            beta,\n",
    "            ct_prior.tv_sqs,\n",
    "            {'weights': [1, 1, 1]},\n",
    "            nos,\n",
    "            {'angles': angles_current},\n",
    "            {'angles': angles_current},\n",
    "            return_loss=False\n",
    "        )\n",
    "\n",
    "        nesterov_img = recon + nesterov * (recon - nesterov_img)\n",
    "\n",
    "    _, data_loss, tv_loss = ct_recon.sqs_one_step(\n",
    "        projector,\n",
    "        recon,\n",
    "        prj_sparse,\n",
    "        norm_img,\n",
    "        projector_norm,\n",
    "        beta,\n",
    "        ct_prior.tv_sqs,\n",
    "        {'weights': [1, 1, 1]},\n",
    "        1,\n",
    "        return_loss=True\n",
    "    )\n",
    "\n",
    "    if (i + 1) % 100 == 0:\n",
    "        print(i + 1, data_loss, tv_loss)"
   ]
  },
  {
   "cell_type": "code",
   "execution_count": null,
   "metadata": {},
   "outputs": [],
   "source": [
    "plt.figure(figsize=[8, 8])\n",
    "plt.imshow(recon[0, 0], 'gray', vmin=0, vmax=1.2)"
   ]
  },
  {
   "cell_type": "code",
   "execution_count": null,
   "metadata": {},
   "outputs": [],
   "source": []
  }
 ],
 "metadata": {
  "kernelspec": {
   "display_name": "Python 3",
   "language": "python",
   "name": "python3"
  },
  "language_info": {
   "codemirror_mode": {
    "name": "ipython",
    "version": 3
   },
   "file_extension": ".py",
   "mimetype": "text/x-python",
   "name": "python",
   "nbconvert_exporter": "python",
   "pygments_lexer": "ipython3",
   "version": "3.8.10"
  },
  "vscode": {
   "interpreter": {
    "hash": "767d51c1340bd893661ea55ea3124f6de3c7a262a8b4abca0554b478b1e2ff90"
   }
  }
 },
 "nbformat": 4,
 "nbformat_minor": 4
}
