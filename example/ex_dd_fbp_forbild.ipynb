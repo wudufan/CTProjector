{
 "cells": [
  {
   "cell_type": "code",
   "execution_count": null,
   "metadata": {},
   "outputs": [],
   "source": [
    "import scipy.io\n",
    "import matplotlib.pyplot as plt\n",
    "import numpy as np\n",
    "import cupy as cp\n",
    "\n",
    "import ct_projector.projector.cupy as ct_base\n",
    "import ct_projector.projector.cupy.parallel as ct_proj"
   ]
  },
  {
   "cell_type": "code",
   "execution_count": null,
   "metadata": {},
   "outputs": [],
   "source": [
    "branchless = False"
   ]
  },
  {
   "cell_type": "code",
   "execution_count": null,
   "metadata": {},
   "outputs": [],
   "source": [
    "# forward projection inverse crime validation\n",
    "\n",
    "img = np.zeros([1, 1, 16, 16], np.float32)\n",
    "img[0, 0, 7:9, 7:9] = 1\n",
    "plt.figure()\n",
    "plt.imshow(img[0, 0])\n",
    "\n",
    "projector_valid = ct_base.ct_projector()\n",
    "projector_valid.nx = 16\n",
    "projector_valid.ny = 16\n",
    "projector_valid.nz = 1\n",
    "projector_valid.cx = 0\n",
    "projector_valid.cy = 0\n",
    "projector_valid.cz = 0\n",
    "projector_valid.dx = 1\n",
    "projector_valid.dy = 1\n",
    "projector_valid.dz = 1\n",
    "projector_valid.nu = 16\n",
    "projector_valid.nv = 1\n",
    "projector_valid.du = 1\n",
    "projector_valid.dv = 1\n",
    "projector_valid.off_u = 0\n",
    "projector_valid.off_v = 0\n",
    "\n",
    "cuangles_valid = cp.zeros(1, cp.float32)\n",
    "\n",
    "cuimg_valid = cp.array(img, order='C')\n",
    "cufp_valid = ct_proj.distance_driven_fp(projector_valid, cuimg_valid, cuangles_valid, branchless)\n",
    "\n",
    "fp_valid = cufp_valid.get()\n",
    "plt.figure()\n",
    "plt.plot(fp_valid[0, 0, 0, :], '.-')\n",
    "\n",
    "print(fp_valid)"
   ]
  },
  {
   "cell_type": "code",
   "execution_count": null,
   "metadata": {},
   "outputs": [],
   "source": [
    "# backprojection inverse crime validation\n",
    "prj = np.zeros([1, 1, 1, 16], np.float32)\n",
    "prj[0, 0, 0, 7:9] = 1\n",
    "plt.figure()\n",
    "plt.plot(prj[0, 0, 0], '.-')\n",
    "\n",
    "cuangles = cp.zeros(1, cp.float32) + cp.pi / 4\n",
    "cuprj = cp.array(prj, order='C')\n",
    "cubp = ct_proj.distance_driven_bp(projector_valid, cuprj, cuangles, True, branchless)\n",
    "\n",
    "bp = cubp.get()\n",
    "\n",
    "plt.figure()\n",
    "plt.imshow(bp[0, 0], 'gray', vmin=0, vmax=1)"
   ]
  },
  {
   "cell_type": "code",
   "execution_count": null,
   "metadata": {},
   "outputs": [],
   "source": [
    "mat = scipy.io.loadmat('./forbild512.mat')\n",
    "phantom = mat['ph']\n",
    "phantom = phantom[np.newaxis, np.newaxis]\n",
    "\n",
    "plt.figure(figsize=[8, 8])\n",
    "plt.imshow(phantom[0, 0], 'gray', vmin=1, vmax=1.1)"
   ]
  },
  {
   "cell_type": "code",
   "execution_count": null,
   "metadata": {},
   "outputs": [],
   "source": [
    "\n",
    "# read projector\n",
    "projector = ct_base.ct_projector()\n",
    "projector.from_file('projector_fan.cfg')\n",
    "projector.nx = 512\n",
    "projector.ny = 512\n",
    "projector.dx = 1\n",
    "projector.dy = 1\n",
    "projector.nz = 1\n",
    "projector.nv = 1\n",
    "projector.cx = 0\n",
    "projector.du = projector.du * projector.dso / projector.dsd\n",
    "angles = projector.get_angles()\n",
    "\n",
    "cuphantom = cp.array(phantom, order='C')\n",
    "cuangles = cp.array(angles, order='C')\n",
    "cuprj = ct_proj.distance_driven_fp(projector, cuphantom, cuangles, branchless)\n",
    "cufprj = ct_proj.ramp_filter(projector, cuprj, 'hann')\n",
    "curecon = ct_proj.distance_driven_bp(projector, cufprj, cuangles, True, branchless)\n",
    "\n",
    "recon = curecon.get()\n",
    "plt.figure(figsize=[8, 8])\n",
    "plt.imshow(recon[0, 0], 'gray', vmin=1, vmax=1.1)\n",
    "\n",
    "prj = cuprj.get()\n",
    "plt.figure()\n",
    "plt.imshow(prj[0, :, 0, :], 'gray', aspect='auto')"
   ]
  },
  {
   "cell_type": "code",
   "execution_count": null,
   "metadata": {},
   "outputs": [],
   "source": []
  }
 ],
 "metadata": {
  "interpreter": {
   "hash": "b1d64bdb33231402e3d6abad5d63b470b5b9ae20f4b606495879a50a618b7bd2"
  },
  "kernelspec": {
   "display_name": "Python 3.8.5 ('ct_projector')",
   "language": "python",
   "name": "python3"
  },
  "language_info": {
   "codemirror_mode": {
    "name": "ipython",
    "version": 3
   },
   "file_extension": ".py",
   "mimetype": "text/x-python",
   "name": "python",
   "nbconvert_exporter": "python",
   "pygments_lexer": "ipython3",
   "version": "3.8.5"
  },
  "orig_nbformat": 4
 },
 "nbformat": 4,
 "nbformat_minor": 2
}
