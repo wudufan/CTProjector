{
 "cells": [
  {
   "cell_type": "code",
   "execution_count": null,
   "metadata": {},
   "outputs": [],
   "source": [
    "import numpy as np\n",
    "import cupy as cp\n",
    "import matplotlib.pyplot as plt\n",
    "import SimpleITK as sitk\n",
    "import time"
   ]
  },
  {
   "cell_type": "code",
   "execution_count": null,
   "metadata": {},
   "outputs": [],
   "source": [
    "import ct_projector.projector.cupy as ct_projector\n",
    "import ct_projector.projector.cupy.fan_equiangular as ct_fan\n",
    "import ct_projector.projector.numpy as numpy_projector\n",
    "import ct_projector.projector.numpy.fan_equiangluar as numpy_fan"
   ]
  },
  {
   "cell_type": "code",
   "execution_count": null,
   "metadata": {},
   "outputs": [],
   "source": [
    "# load a sample CT image\n",
    "filename = './3.nii.gz'\n",
    "ct = sitk.ReadImage(filename)\n",
    "spacing = ct.GetSpacing()\n",
    "img = sitk.GetArrayFromImage(ct)\n",
    "\n",
    "# convert image from HU to attenuation coefficient\n",
    "# This is the approximate relationship\n",
    "img = (img.astype(np.float32) + 1024) / 1000 * 0.019\n",
    "img[img < 0] = 0\n",
    "\n",
    "# also convert to image to our projector dimension batch, z, y, x\n",
    "img = img[np.newaxis, ...]\n",
    "img = img[:, ::-1, ...]\n",
    "spacing = np.array(spacing[::-1])"
   ]
  },
  {
   "cell_type": "code",
   "execution_count": null,
   "metadata": {},
   "outputs": [],
   "source": [
    "# show the ct images\n",
    "plt.figure(figsize = (12,4))\n",
    "plt.subplot(131); plt.imshow(img[0, img.shape[1]//2, ...], 'gray', aspect=spacing[1] / spacing[2])\n",
    "plt.subplot(132); plt.imshow(img[0, :, img.shape[2]//2, :], 'gray', aspect=spacing[0] / spacing[2])\n",
    "plt.subplot(133); plt.imshow(img[0, ..., img.shape[3]//2], 'gray', aspect=spacing[0] / spacing[1])"
   ]
  },
  {
   "cell_type": "code",
   "execution_count": null,
   "metadata": {},
   "outputs": [],
   "source": [
    "# setup the projector\n",
    "projector = ct_projector.ct_projector()\n",
    "projector.from_file('./projector_fan.cfg')\n",
    "projector.nx = img.shape[3]\n",
    "projector.ny = img.shape[2]\n",
    "projector.nz = 1\n",
    "projector.nv = 1\n",
    "projector.dx = spacing[2]\n",
    "projector.dy = spacing[1]\n",
    "projector.dz = spacing[0]\n",
    "projector.nview = 768\n",
    "\n",
    "for k in vars(projector):\n",
    "    print (k, '=', getattr(projector, k))"
   ]
  },
  {
   "cell_type": "code",
   "execution_count": null,
   "metadata": {},
   "outputs": [],
   "source": [
    "# very important: make sure that the arrays are saved in C order\n",
    "cp.cuda.Device(0).use()\n",
    "ct_projector.set_device(0)\n",
    "\n",
    "angles = projector.get_angles()\n",
    "# origin_img = img[0, [img.shape[1]//3, img.shape[1]//2, img.shape[1]//3*2], ...]\n",
    "origin_img = img[0, :64, ...]\n",
    "origin_img = origin_img[:, np.newaxis, ...]\n",
    "cuimg = cp.array(origin_img, cp.float32, order = 'C')\n",
    "cuangles = cp.array(angles, cp.float32, order = 'C')\n",
    "\n",
    "projector.set_projector(ct_fan.distance_driven_fp, angles=cuangles, branchless=False)"
   ]
  },
  {
   "cell_type": "code",
   "execution_count": null,
   "metadata": {},
   "outputs": [],
   "source": [
    "# set which device to use\n",
    "numpy_projector.set_device(0)\n",
    "# forward projection\n",
    "start = time.time()\n",
    "cufp = projector.fp(cuimg, angles = cuangles)\n",
    "end = time.time()\n",
    "print (end - start)"
   ]
  },
  {
   "cell_type": "code",
   "execution_count": null,
   "metadata": {},
   "outputs": [],
   "source": [
    "# show the projections\n",
    "fp = cufp.get()\n",
    "plt.figure(figsize = (8,8))\n",
    "plt.imshow(fp[1,:, 0, :], 'gray')"
   ]
  },
  {
   "cell_type": "code",
   "execution_count": null,
   "metadata": {},
   "outputs": [],
   "source": [
    "fbp_projector = numpy_projector.ct_projector()\n",
    "fbp_projector.from_file('./projector_fan.cfg')\n",
    "fbp_projector.nx = img.shape[3]\n",
    "fbp_projector.ny = img.shape[2]\n",
    "fbp_projector.nz = 1\n",
    "fbp_projector.nv = 1\n",
    "fbp_projector.dx = spacing[2]\n",
    "fbp_projector.dy = spacing[1]\n",
    "fbp_projector.dz = spacing[0]"
   ]
  },
  {
   "cell_type": "code",
   "execution_count": null,
   "metadata": {},
   "outputs": [],
   "source": [
    "fprj = numpy_fan.ramp_filter(fbp_projector, fp, filter_type='RL')\n",
    "recon = numpy_fan.fbp_bp(fbp_projector, fprj, angles)"
   ]
  },
  {
   "cell_type": "code",
   "execution_count": null,
   "metadata": {},
   "outputs": [],
   "source": [
    "plt.figure(figsize = (16,8))\n",
    "plt.subplot(121); plt.imshow(recon[2,0, :, :], 'gray', vmin=0, vmax=0.0225)\n",
    "plt.subplot(122); plt.imshow(cuimg.get()[2,0, :, :], 'gray', vmin=0, vmax=0.0225)"
   ]
  },
  {
   "cell_type": "code",
   "execution_count": null,
   "metadata": {},
   "outputs": [],
   "source": [
    "projector.set_backprojector(ct_fan.distance_driven_bp, angles=cuangles, is_fbp=True)\n",
    "cufprj = cp.array(fprj, cp.float32, order = 'C')\n",
    "curecon = projector.bp(cufprj)"
   ]
  },
  {
   "cell_type": "code",
   "execution_count": null,
   "metadata": {},
   "outputs": [],
   "source": [
    "plt.figure(figsize = (16,8))\n",
    "plt.subplot(121); plt.imshow(curecon.get()[2,0, :, :], 'gray', vmin=0, vmax=0.0225)\n",
    "plt.subplot(122); plt.imshow(cuimg.get()[2,0, :, :], 'gray', vmin=0, vmax=0.0225)"
   ]
  },
  {
   "cell_type": "code",
   "execution_count": null,
   "metadata": {},
   "outputs": [],
   "source": []
  }
 ],
 "metadata": {
  "interpreter": {
   "hash": "04fc085b4c305623d45105d8bcdc570bddd24d3fe2cda0fea67cfb0832443c45"
  },
  "kernelspec": {
   "display_name": "Python 3.7.6 64-bit ('dbt_dev': conda)",
   "name": "python3"
  },
  "language_info": {
   "codemirror_mode": {
    "name": "ipython",
    "version": 3
   },
   "file_extension": ".py",
   "mimetype": "text/x-python",
   "name": "python",
   "nbconvert_exporter": "python",
   "pygments_lexer": "ipython3",
   "version": "3.8.5"
  }
 },
 "nbformat": 4,
 "nbformat_minor": 4
}
