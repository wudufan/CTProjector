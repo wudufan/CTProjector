{
 "cells": [
  {
   "cell_type": "code",
   "execution_count": null,
   "metadata": {},
   "outputs": [],
   "source": [
    "import numpy as np\n",
    "import matplotlib.pyplot as plt\n",
    "import SimpleITK as sitk\n",
    "import cupy as cp"
   ]
  },
  {
   "cell_type": "code",
   "execution_count": null,
   "metadata": {},
   "outputs": [],
   "source": [
    "import ct_projector.projector.cupy as ct_projector\n",
    "import ct_projector.projector.cupy.tomo as ct_tomo"
   ]
  },
  {
   "cell_type": "code",
   "execution_count": null,
   "metadata": {},
   "outputs": [],
   "source": [
    "# load a sample CT image\n",
    "img = np.load('./CTA0296_7_2.npy')\n",
    "spacing = [1, 1, 1]\n",
    "img = img[np.newaxis, ...]"
   ]
  },
  {
   "cell_type": "code",
   "execution_count": null,
   "metadata": {},
   "outputs": [],
   "source": [
    "# show the ct images\n",
    "plt.figure(figsize = (12,4))\n",
    "plt.subplot(131); plt.imshow(img[0, img.shape[1]//2, ...], 'gray', aspect=spacing[1] / spacing[2])\n",
    "plt.subplot(132); plt.imshow(img[0, :, img.shape[2]//2, :], 'gray', aspect=spacing[0] / spacing[2])\n",
    "plt.subplot(133); plt.imshow(img[0, ..., img.shape[3]//2], 'gray', aspect=spacing[0] / spacing[1])"
   ]
  },
  {
   "cell_type": "code",
   "execution_count": null,
   "metadata": {},
   "outputs": [],
   "source": [
    "# setup the projector\n",
    "projector = ct_projector.ct_projector()\n",
    "projector.from_file('./tomo.cfg')\n",
    "projector.nx = img.shape[3]\n",
    "projector.ny = img.shape[2]\n",
    "projector.nz = img.shape[1]\n",
    "projector.dx = spacing[2]\n",
    "projector.dy = spacing[1]\n",
    "projector.dz = spacing[0]\n",
    "projector.cx = 0\n",
    "projector.cy = img.shape[2] * spacing[2] / 2\n",
    "projector.cz = 11\n",
    "\n",
    "for k in vars(projector):\n",
    "    print (k, '=', getattr(projector, k))"
   ]
  },
  {
   "cell_type": "code",
   "execution_count": null,
   "metadata": {},
   "outputs": [],
   "source": [
    "# setup the positions of projections, let's do 0, 45, 90, and 135\n",
    "angles = np.arange(-12, 13, 3) * np.pi / 180\n",
    "\n",
    "srcs = np.array([projector.dso * np.sin(angles),\n",
    "                 [0] * len(angles), \n",
    "                 projector.dso * np.cos(angles)]).T\n",
    "\n",
    "det_centers = np.array([[0] * len(angles),\n",
    "                        [projector.nv * projector.dv / 2] * len(angles), \n",
    "                        [projector.dso - projector.dsd] * len(angles)]).T\n",
    "\n",
    "det_us = np.array([1, 0, 0] * len(angles)).T\n",
    "det_vs = np.array([0, 1, 0] * len(angles)).T"
   ]
  },
  {
   "cell_type": "code",
   "execution_count": null,
   "metadata": {},
   "outputs": [],
   "source": [
    "# very important: use np.copy('C') so that the arrays are saved in C order\n",
    "cp.cuda.Device(0).use()\n",
    "ct_projector.set_device(0)\n",
    "\n",
    "cuimg = cp.array(img, cp.float32, order = 'C')\n",
    "cusrcs = cp.array(srcs, cp.float32, order = 'C')\n",
    "cudet_centers = cp.array(det_centers, cp.float32, order = 'C')"
   ]
  },
  {
   "cell_type": "code",
   "execution_count": null,
   "metadata": {},
   "outputs": [],
   "source": [
    "projector.set_projector(ct_tomo.distance_driven_fp, det_center=cudet_centers, src=cusrcs)\n",
    "projector.set_backprojector(ct_tomo.distance_driven_bp, det_center=cudet_centers, src=cusrcs)"
   ]
  },
  {
   "cell_type": "code",
   "execution_count": null,
   "metadata": {},
   "outputs": [],
   "source": [
    "# set which device to use\n",
    "# forward projection\n",
    "cufp = projector.fp(cuimg)"
   ]
  },
  {
   "cell_type": "code",
   "execution_count": null,
   "metadata": {},
   "outputs": [],
   "source": [
    "fp = cufp.get()\n",
    "plt.imshow(fp[0,4,...], 'gray')"
   ]
  },
  {
   "cell_type": "code",
   "execution_count": null,
   "metadata": {},
   "outputs": [],
   "source": [
    "cubp = projector.bp(cufp)"
   ]
  },
  {
   "cell_type": "code",
   "execution_count": null,
   "metadata": {},
   "outputs": [],
   "source": [
    "bp = cubp.get()\n",
    "plt.figure(figsize = (12,4))\n",
    "plt.subplot(131); plt.imshow(bp[0, bp.shape[1]//2, ...], 'gray', aspect=spacing[1] / spacing[2])\n",
    "plt.subplot(132); plt.imshow(bp[0, :, bp.shape[2]//2, :], 'gray', aspect=spacing[0] / spacing[2])\n",
    "plt.subplot(133); plt.imshow(bp[0, ..., bp.shape[3]//2], 'gray', aspect=spacing[0] / spacing[1])"
   ]
  },
  {
   "cell_type": "code",
   "execution_count": null,
   "metadata": {},
   "outputs": [],
   "source": []
  }
 ],
 "metadata": {
  "kernelspec": {
   "display_name": "Python 3",
   "language": "python",
   "name": "python3"
  },
  "language_info": {
   "codemirror_mode": {
    "name": "ipython",
    "version": 3
   },
   "file_extension": ".py",
   "mimetype": "text/x-python",
   "name": "python",
   "nbconvert_exporter": "python",
   "pygments_lexer": "ipython3",
   "version": "3.8.5"
  }
 },
 "nbformat": 4,
 "nbformat_minor": 4
}
