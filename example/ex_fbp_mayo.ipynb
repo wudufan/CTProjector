{
 "cells": [
  {
   "cell_type": "code",
   "execution_count": null,
   "metadata": {},
   "outputs": [],
   "source": [
    "import numpy as np\n",
    "import matplotlib.pyplot as plt\n",
    "import sys\n",
    "import os\n",
    "import h5py"
   ]
  },
  {
   "cell_type": "code",
   "execution_count": null,
   "metadata": {},
   "outputs": [],
   "source": [
    "import ct_projector.projector.numpy as ct_projector\n",
    "import ct_projector.projector.numpy.fan_equiangluar as ct_fan"
   ]
  },
  {
   "cell_type": "code",
   "execution_count": null,
   "metadata": {},
   "outputs": [],
   "source": [
    "with h5py.File('./L291_full_sino.mat', 'r') as f:\n",
    "    prj = np.copy(f['sino'])\n",
    "prj = np.copy(prj.transpose([1, 0, 2])[np.newaxis], 'C')"
   ]
  },
  {
   "cell_type": "code",
   "execution_count": null,
   "metadata": {},
   "outputs": [],
   "source": [
    "projector = ct_projector.ct_projector()\n",
    "projector.from_file('./projector_fan.cfg')\n",
    "projector.nu = prj.shape[3]\n",
    "projector.nv = prj.shape[2]\n",
    "projector.nview = prj.shape[1]\n",
    "projector.nz = prj.shape[2]\n",
    "angles = projector.get_angles()\n",
    "\n",
    "for v in vars(projector):\n",
    "    print (v, '=', getattr(projector, v))"
   ]
  },
  {
   "cell_type": "code",
   "execution_count": null,
   "metadata": {},
   "outputs": [],
   "source": [
    "ct_projector.set_device(0)\n",
    "\n",
    "fprj = ct_fan.ramp_filter(projector, prj)\n",
    "img = ct_fan.fbp_bp(projector, fprj, angles)"
   ]
  },
  {
   "cell_type": "code",
   "execution_count": null,
   "metadata": {},
   "outputs": [],
   "source": [
    "plt.figure(figsize = (12,12))\n",
    "plt.imshow(img[0, img.shape[1]//2, 64:-64, 64:-64], 'gray', vmin=0.01596, vmax = 0.02356)"
   ]
  },
  {
   "cell_type": "code",
   "execution_count": null,
   "metadata": {},
   "outputs": [],
   "source": [
    "plt.figure(figsize = (12,4))\n",
    "plt.subplot(131); plt.imshow(img[0, img.shape[1]//2, ...], 'gray', aspect=projector.dy / projector.dx)\n",
    "plt.subplot(132); plt.imshow(img[0, :, img.shape[2]//2, :], 'gray', aspect=projector.dz / projector.dx)\n",
    "plt.subplot(133); plt.imshow(img[0, ..., img.shape[3]//2], 'gray', aspect=projector.dz / projector.dx)"
   ]
  },
  {
   "cell_type": "code",
   "execution_count": null,
   "metadata": {},
   "outputs": [],
   "source": [
    "bp = ct_fan.siddon_bp(projector, fprj, angles)"
   ]
  },
  {
   "cell_type": "code",
   "execution_count": null,
   "metadata": {},
   "outputs": [],
   "source": []
  }
 ],
 "metadata": {
  "kernelspec": {
   "display_name": "Python 3",
   "language": "python",
   "name": "python3"
  },
  "language_info": {
   "codemirror_mode": {
    "name": "ipython",
    "version": 3
   },
   "file_extension": ".py",
   "mimetype": "text/x-python",
   "name": "python",
   "nbconvert_exporter": "python",
   "pygments_lexer": "ipython3",
   "version": "3.8.5"
  }
 },
 "nbformat": 4,
 "nbformat_minor": 4
}
