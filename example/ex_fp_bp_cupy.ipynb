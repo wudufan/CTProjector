{
 "cells": [
  {
   "cell_type": "code",
   "execution_count": null,
   "metadata": {},
   "outputs": [],
   "source": [
    "import numpy as np\n",
    "import cupy as cp\n",
    "import matplotlib.pyplot as plt\n",
    "import SimpleITK as sitk"
   ]
  },
  {
   "cell_type": "code",
   "execution_count": null,
   "metadata": {},
   "outputs": [],
   "source": [
    "import ct_projector.projector.cupy as ct_projector\n",
    "import ct_projector.projector.cupy.cone as ct_cone"
   ]
  },
  {
   "cell_type": "code",
   "execution_count": null,
   "metadata": {},
   "outputs": [],
   "source": [
    "# load a sample CT image\n",
    "filename = './3.nii.gz'\n",
    "ct = sitk.ReadImage(filename)\n",
    "spacing = ct.GetSpacing()\n",
    "img = sitk.GetArrayFromImage(ct)\n",
    "\n",
    "# convert image from HU to attenuation coefficient\n",
    "# This is the approximate relationship\n",
    "img = (img.astype(np.float32) + 1024) / 1000 * 0.019\n",
    "img[img < 0] = 0\n",
    "\n",
    "# also convert to image to our projector dimension batch, z, y, x\n",
    "img = img[np.newaxis,...]\n",
    "img = img[:, ::-1, ...]\n",
    "spacing = np.array(spacing[::-1])"
   ]
  },
  {
   "cell_type": "code",
   "execution_count": null,
   "metadata": {},
   "outputs": [],
   "source": [
    "# show the ct images\n",
    "plt.figure(figsize = (12,4))\n",
    "plt.subplot(131); plt.imshow(img[0, img.shape[1]//2, ...], 'gray', aspect=spacing[1] / spacing[2])\n",
    "plt.subplot(132); plt.imshow(img[0, :, img.shape[2]//2, :], 'gray', aspect=spacing[0] / spacing[2])\n",
    "plt.subplot(133); plt.imshow(img[0, ..., img.shape[3]//2], 'gray', aspect=spacing[0] / spacing[1])"
   ]
  },
  {
   "cell_type": "code",
   "execution_count": null,
   "metadata": {},
   "outputs": [],
   "source": [
    "# setup the projector\n",
    "projector = ct_projector.ct_projector()\n",
    "projector.from_file('./projector.cfg')\n",
    "projector.nx = img.shape[3]\n",
    "projector.ny = img.shape[2]\n",
    "projector.nz = img.shape[1]\n",
    "projector.dx = spacing[2]\n",
    "projector.dy = spacing[1]\n",
    "projector.dz = spacing[0]\n",
    "\n",
    "for k in vars(projector):\n",
    "    print (k, '=', getattr(projector, k))"
   ]
  },
  {
   "cell_type": "code",
   "execution_count": null,
   "metadata": {},
   "outputs": [],
   "source": [
    "# setup the positions of projections, let's do 0, 45, 90, and 135\n",
    "angles = np.array([0, 45, 90, 135]) * np.pi / 180\n",
    "\n",
    "srcs = np.array([projector.dso * np.cos(angles), \n",
    "                 projector.dso * np.sin(angles), \n",
    "                 [0] * len(angles)]).T\n",
    "\n",
    "det_centers = np.array([(projector.dso - projector.dsd) * np.cos(angles), \n",
    "                        (projector.dso - projector.dsd) * np.sin(angles), \n",
    "                        [0] * len(angles)]).T\n",
    "\n",
    "det_us = np.array([-np.sin(angles), np.cos(angles), [0] * len(angles)]).T\n",
    "det_vs = np.zeros_like(det_us)\n",
    "det_vs[:, 2] = 1"
   ]
  },
  {
   "cell_type": "code",
   "execution_count": null,
   "metadata": {},
   "outputs": [],
   "source": [
    "# very important: use np.copy('C') so that the arrays are saved in C order\n",
    "cp.cuda.Device(0).use()\n",
    "ct_projector.set_device(0)\n",
    "\n",
    "cuimg = cp.array(img, cp.float32, order='C')\n",
    "cusrcs = cp.array(srcs, cp.float32, order='C')\n",
    "cudet_centers = cp.array(det_centers, cp.float32, order='C')\n",
    "cudet_us = cp.array(det_us, cp.float32, order='C')\n",
    "cudet_vs = cp.array(det_vs, cp.float32 ,order='C')"
   ]
  },
  {
   "cell_type": "code",
   "execution_count": null,
   "metadata": {},
   "outputs": [],
   "source": [
    "# set which device to use\n",
    "# projector.set_device(0)\n",
    "# forward projection\n",
    "cufp = ct_cone.siddon_fp_arbitrary(projector, cuimg, cudet_centers, cudet_us, cudet_vs, cusrcs)\n",
    "fp = cufp.get()"
   ]
  },
  {
   "cell_type": "code",
   "execution_count": null,
   "metadata": {},
   "outputs": [],
   "source": [
    "# show the projections\n",
    "plt.figure(figsize = (16,4))\n",
    "for i in range(4):\n",
    "    plt.subplot(1,4,i+1)\n",
    "    plt.imshow(fp[0, i, ...], 'gray')"
   ]
  },
  {
   "cell_type": "code",
   "execution_count": null,
   "metadata": {},
   "outputs": [],
   "source": [
    "# backprojection: The siddon ray tracing has aliasing when backprojection. Need to be normalized\n",
    "iangle = 2\n",
    "cubp = ct_cone.siddon_bp_arbitrary(\n",
    "    projector,\n",
    "    cp.copy(cufp[:, [iangle], ...], 'C'), \n",
    "    cudet_centers[[iangle]], \n",
    "    cudet_us[[iangle]],\n",
    "    cudet_vs[[iangle]],\n",
    "    cusrcs[[iangle]]\n",
    ")\n",
    "cubp_norm = ct_cone.siddon_bp_arbitrary(\n",
    "    projector,\n",
    "    cp.ones(cufp[:, [iangle], ...].shape, cp.float32), \n",
    "    cudet_centers[[iangle]], \n",
    "    cudet_us[[iangle]], \n",
    "    cudet_vs[[iangle]], \n",
    "    cusrcs[[iangle]]\n",
    ")\n",
    "cubp = cubp / (cubp_norm + 1e-4)"
   ]
  },
  {
   "cell_type": "code",
   "execution_count": null,
   "metadata": {},
   "outputs": [],
   "source": [
    "bp = cubp.get()\n",
    "\n",
    "plt.figure(figsize = (12,4))\n",
    "plt.subplot(131); plt.imshow(bp[0, bp.shape[1]//2, ...], 'gray', aspect=spacing[1] / spacing[2])\n",
    "plt.subplot(132); plt.imshow(bp[0, :, bp.shape[2]//2, :], 'gray', aspect=spacing[0] / spacing[2])\n",
    "plt.subplot(133); plt.imshow(bp[0, ..., bp.shape[3]//2], 'gray', aspect=spacing[0] / spacing[1])"
   ]
  },
  {
   "cell_type": "code",
   "execution_count": null,
   "metadata": {},
   "outputs": [],
   "source": []
  }
 ],
 "metadata": {
  "kernelspec": {
   "display_name": "Python 3",
   "language": "python",
   "name": "python3"
  },
  "language_info": {
   "codemirror_mode": {
    "name": "ipython",
    "version": 3
   },
   "file_extension": ".py",
   "mimetype": "text/x-python",
   "name": "python",
   "nbconvert_exporter": "python",
   "pygments_lexer": "ipython3",
   "version": "3.8.5"
  }
 },
 "nbformat": 4,
 "nbformat_minor": 4
}
