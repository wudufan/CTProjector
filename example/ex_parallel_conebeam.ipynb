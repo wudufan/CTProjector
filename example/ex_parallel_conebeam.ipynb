{
 "cells": [
  {
   "cell_type": "code",
   "execution_count": 1,
   "metadata": {},
   "outputs": [
    {
     "data": {
      "text/plain": [
       "'\\nReconstruction helical data using parallel conebeam rebinning\\n'"
      ]
     },
     "execution_count": 1,
     "metadata": {},
     "output_type": "execute_result"
    }
   ],
   "source": [
    "'''\n",
    "Reconstruction helical data using parallel conebeam rebinning\n",
    "'''"
   ]
  },
  {
   "cell_type": "code",
   "execution_count": 2,
   "metadata": {},
   "outputs": [],
   "source": [
    "import h5py\n",
    "import numpy as np"
   ]
  },
  {
   "cell_type": "code",
   "execution_count": 9,
   "metadata": {},
   "outputs": [],
   "source": [
    "input_filename = '54_1.mat'\n",
    "\n",
    "with h5py.File(input_filename, 'r') as f:\n",
    "    # if a view is valid\n",
    "    view_valid_a = np.copy(f['sh']['Lookup']['DetA']).flatten()\n",
    "    view_valid_b = np.copy(f['sh']['Lookup']['DetB']).flatten()\n",
    "    \n",
    "    # z position of the source for each view, convert to mm\n",
    "    zpos_a = np.copy(f['posA']).flatten() / 1000\n",
    "    zpos_b = np.copy(f['posB']).flatten() / 1000\n",
    "    \n",
    "    # angle of the source for each view, convert to radius\n",
    "    angles_a = np.copy(f['angleA']).flatten() / 180 * np.pi\n",
    "    angles_b = np.copy(f['angleB']).flatten() / 180 * np.pi\n",
    "    \n",
    "    # projection, convert to attenuation\n",
    "    prjs_a = np.copy(np.copy(f['projA'])[:, ::-1, :], 'C').astype(np.float32) / 2294.5\n",
    "    prjs_b = np.copy(np.copy(f['projB'])[:, ::-1, :], 'C').astype(np.float32) / 2294.5"
   ]
  },
  {
   "cell_type": "code",
   "execution_count": null,
   "metadata": {},
   "outputs": [],
   "source": []
  }
 ],
 "metadata": {
  "interpreter": {
   "hash": "b1d64bdb33231402e3d6abad5d63b470b5b9ae20f4b606495879a50a618b7bd2"
  },
  "kernelspec": {
   "display_name": "Python 3.8.5 ('ct_projector')",
   "language": "python",
   "name": "python3"
  },
  "language_info": {
   "codemirror_mode": {
    "name": "ipython",
    "version": 3
   },
   "file_extension": ".py",
   "mimetype": "text/x-python",
   "name": "python",
   "nbconvert_exporter": "python",
   "pygments_lexer": "ipython3",
   "version": "3.8.5"
  },
  "orig_nbformat": 4
 },
 "nbformat": 4,
 "nbformat_minor": 2
}
