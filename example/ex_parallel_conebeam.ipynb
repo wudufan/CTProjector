{
 "cells": [
  {
   "cell_type": "code",
   "execution_count": 1,
   "metadata": {},
   "outputs": [
    {
     "data": {
      "text/plain": [
       "'\\nReconstruction helical data using parallel conebeam rebinning\\n'"
      ]
     },
     "execution_count": 1,
     "metadata": {},
     "output_type": "execute_result"
    }
   ],
   "source": [
    "'''\n",
    "Reconstruction helical data using parallel conebeam rebinning\n",
    "'''"
   ]
  },
  {
   "cell_type": "code",
   "execution_count": 2,
   "metadata": {},
   "outputs": [],
   "source": [
    "import h5py\n",
    "import numpy as np\n",
    "import matplotlib.pyplot as plt\n",
    "\n",
    "import ct_projector.projector.numpy as ct_projector\n",
    "import ct_projector.projector.numpy.helical_equiangular_parallel_rebin as ct_helical"
   ]
  },
  {
   "cell_type": "code",
   "execution_count": 3,
   "metadata": {},
   "outputs": [],
   "source": [
    "input_filename = '54_1.mat'\n",
    "\n",
    "with h5py.File(input_filename, 'r') as f:\n",
    "    # if a view is valid\n",
    "    view_valid_a = np.copy(f['sh']['Lookup']['DetA']).flatten()\n",
    "    view_valid_b = np.copy(f['sh']['Lookup']['DetB']).flatten()\n",
    "    \n",
    "    # z position of the source for each view, convert to mm\n",
    "    zpos_a = np.copy(f['posA']).flatten() / 1000\n",
    "    zpos_b = np.copy(f['posB']).flatten() / 1000\n",
    "    \n",
    "    # angle of the source for each view, convert to radius\n",
    "    angles_a = np.copy(f['angleA']).flatten() / 180 * np.pi\n",
    "    angles_b = np.copy(f['angleB']).flatten() / 180 * np.pi\n",
    "    \n",
    "    # projection, convert to attenuation\n",
    "    prjs_a = np.copy(np.copy(f['projA'])[:, ::-1, :], 'C').astype(np.float32) / 2294.5\n",
    "    prjs_b = np.copy(np.copy(f['projB'])[:, ::-1, :], 'C').astype(np.float32) / 2294.5"
   ]
  },
  {
   "cell_type": "code",
   "execution_count": 4,
   "metadata": {},
   "outputs": [
    {
     "name": "stdout",
     "output_type": "stream",
     "text": [
      "Beta (fan angle) interpolation...\n",
      "100,200,300,400,500,600,700,\n",
      "Theta (source angle) interpolation...\n",
      "100,200,300,400,500,600,700,\n",
      "Beta (fan angle) interpolation...\n",
      "100,200,300,400,\n",
      "Theta (source angle) interpolation...\n",
      "100,200,300,400,\n"
     ]
    }
   ],
   "source": [
    "projector = ct_projector.ct_projector()\n",
    "projector.nv = prjs_a.shape[1]\n",
    "projector.dso = 595\n",
    "projector.du = 0.067864004196156 * np.pi / 180 * projector.dsd\n",
    "projector.dv = 1.0947\n",
    "projector.off_u = -1.25\n",
    "projector.rotview = 1152\n",
    "dtheta = np.pi * 2 / projector.rotview\n",
    "\n",
    "projector.nu = prjs_a.shape[2]\n",
    "projector_rebin_a, prjs_rebin_a, angles_a, zrot_a, nview_margin_pre_a, nview_margin_post_a = \\\n",
    "    ct_helical.rebin_helical_to_parallel(projector, prjs_a, angles_a, zpos_a)\n",
    "\n",
    "projector.nu = prjs_b.shape[2]\n",
    "projector_rebin_b, prjs_rebin_b, angles_b, zrot_b, nview_margin_pre_b, nview_margin_post_b = \\\n",
    "    ct_helical.rebin_helical_to_parallel(projector, prjs_b, angles_b, zpos_b)"
   ]
  },
  {
   "cell_type": "code",
   "execution_count": null,
   "metadata": {},
   "outputs": [],
   "source": []
  }
 ],
 "metadata": {
  "interpreter": {
   "hash": "b1d64bdb33231402e3d6abad5d63b470b5b9ae20f4b606495879a50a618b7bd2"
  },
  "kernelspec": {
   "display_name": "Python 3.8.5 ('ct_projector')",
   "language": "python",
   "name": "python3"
  },
  "language_info": {
   "codemirror_mode": {
    "name": "ipython",
    "version": 3
   },
   "file_extension": ".py",
   "mimetype": "text/x-python",
   "name": "python",
   "nbconvert_exporter": "python",
   "pygments_lexer": "ipython3",
   "version": "3.8.5"
  },
  "orig_nbformat": 4
 },
 "nbformat": 4,
 "nbformat_minor": 2
}
