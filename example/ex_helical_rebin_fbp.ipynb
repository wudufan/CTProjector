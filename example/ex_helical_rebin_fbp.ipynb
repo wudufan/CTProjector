{
 "cells": [
  {
   "cell_type": "code",
   "execution_count": null,
   "metadata": {},
   "outputs": [],
   "source": [
    "'''\n",
    "Reconstruction helical data using parallel conebeam rebinning\n",
    "'''"
   ]
  },
  {
   "cell_type": "code",
   "execution_count": null,
   "metadata": {},
   "outputs": [],
   "source": [
    "import h5py\n",
    "import numpy as np\n",
    "import matplotlib.pyplot as plt\n",
    "\n",
    "import ct_projector.projector.numpy as ct_projector\n",
    "import ct_projector.projector.numpy.helical_equiangular_parallel_rebin as ct_helical\n",
    "\n",
    "import importlib\n",
    "importlib.reload(ct_helical)"
   ]
  },
  {
   "cell_type": "code",
   "execution_count": null,
   "metadata": {},
   "outputs": [],
   "source": [
    "input_filename = '54_1.mat'\n",
    "\n",
    "with h5py.File(input_filename, 'r') as f:\n",
    "    # if a view is valid\n",
    "    view_valid_a = np.copy(f['sh']['Lookup']['DetA']).flatten()\n",
    "    view_valid_b = np.copy(f['sh']['Lookup']['DetB']).flatten()\n",
    "    \n",
    "    # z position of the source for each view, convert to mm\n",
    "    zpos_a = np.copy(f['posA']).flatten() / 1000\n",
    "    zpos_b = np.copy(f['posB']).flatten() / 1000\n",
    "    \n",
    "    # angle of the source for each view, convert to radius\n",
    "    angles_a = np.copy(f['angleA']).flatten() / 180 * np.pi\n",
    "    angles_b = np.copy(f['angleB']).flatten() / 180 * np.pi\n",
    "    \n",
    "    # projection, convert to attenuation\n",
    "    prjs_a = np.copy(np.copy(f['projA'])[:, ::-1, :], 'C').astype(np.float32) / 2294.5\n",
    "    prjs_b = np.copy(np.copy(f['projB'])[:, ::-1, :], 'C').astype(np.float32) / 2294.5"
   ]
  },
  {
   "cell_type": "code",
   "execution_count": null,
   "metadata": {},
   "outputs": [],
   "source": [
    "projector = ct_projector.ct_projector()\n",
    "projector.nv = prjs_a.shape[1]\n",
    "projector.dso = 595\n",
    "projector.du = 0.067864004196156 * np.pi / 180 * projector.dsd\n",
    "projector.dv = 1.0947\n",
    "projector.off_u = -1.25\n",
    "projector.rotview = 1152\n",
    "projector.nx = 640\n",
    "projector.ny = 640\n",
    "projector.dx = 0.75\n",
    "projector.dy = 0.75\n",
    "projector.dz = 0.75\n",
    "dtheta = np.pi * 2 / projector.rotview\n",
    "\n",
    "projector.nu = prjs_a.shape[2]\n",
    "projector_rebin_a, prjs_rebin_a, angles_a, zrot_a, nview_margin_pre_a, nview_margin_post_a = \\\n",
    "    ct_helical.rebin_helical_to_parallel(projector, prjs_a, angles_a, zpos_a)\n",
    "\n",
    "projector.nu = prjs_b.shape[2]\n",
    "projector_rebin_b, prjs_rebin_b, angles_b, zrot_b, nview_margin_pre_b, nview_margin_post_b = \\\n",
    "    ct_helical.rebin_helical_to_parallel(projector, prjs_b, angles_b, zpos_b)"
   ]
  },
  {
   "cell_type": "code",
   "execution_count": null,
   "metadata": {},
   "outputs": [],
   "source": [
    "istart_origin_a = np.where(view_valid_a > 0.5)[0][0]\n",
    "istart_origin_b = np.where(view_valid_b > 0.5)[0][0]\n",
    "first_angle_offset = istart_origin_b - istart_origin_a\n",
    "print(first_angle_offset)"
   ]
  },
  {
   "cell_type": "code",
   "execution_count": null,
   "metadata": {},
   "outputs": [],
   "source": [
    "prjs_rebin_ab, istart_a, istart_b = ct_helical.pad_dual_source_ct_rebinned_projection(\n",
    "    projector_rebin_a,\n",
    "    projector_rebin_b,\n",
    "    prjs_rebin_a,\n",
    "    prjs_rebin_b,\n",
    "    angles_a,\n",
    "    angles_b,\n",
    "    zrot_a,\n",
    "    zrot_b,\n",
    "    first_angle_offset,\n",
    "    nview_margin_pre_a,\n",
    "    nview_margin_pre_b,\n",
    "    nview_margin_post_a,\n",
    "    nview_margin_post_b,\n",
    ")"
   ]
  },
  {
   "cell_type": "code",
   "execution_count": null,
   "metadata": {},
   "outputs": [],
   "source": [
    "recon_z_start = zpos_a[istart_a]\n",
    "recon_z_end = zpos_a[istart_a] + zrot_a * prjs_rebin_ab.shape[1] /  projector.rotview"
   ]
  },
  {
   "cell_type": "code",
   "execution_count": null,
   "metadata": {},
   "outputs": [],
   "source": [
    "ct_projector.set_device(1)\n",
    "img_a = ct_helical.fbp_long(\n",
    "    projector_rebin_a,\n",
    "    prjs_rebin_ab[[0]],\n",
    "    angles_a[istart_a],\n",
    "    zpos_a[istart_a],\n",
    "    zrot_a,\n",
    "    recon_z_start=recon_z_start,\n",
    "    recon_z_end=recon_z_end\n",
    ")"
   ]
  },
  {
   "cell_type": "code",
   "execution_count": null,
   "metadata": {},
   "outputs": [],
   "source": [
    "img_b = ct_helical.fbp_long(\n",
    "    projector_rebin_b,\n",
    "    prjs_rebin_ab[[1]],\n",
    "    angles_b[istart_b],\n",
    "    zpos_b[istart_b],\n",
    "    zrot_b,\n",
    "    recon_z_start=recon_z_start,\n",
    "    recon_z_end=recon_z_end\n",
    ")"
   ]
  },
  {
   "cell_type": "code",
   "execution_count": null,
   "metadata": {},
   "outputs": [],
   "source": [
    "plt.figure(figsize=[16, 8])\n",
    "plt.subplot(121)\n",
    "plt.imshow(img_a[..., ::-1][0, :, 320, :], 'gray', vmin=0.01596, vmax=0.02356)\n",
    "plt.subplot(122)\n",
    "plt.imshow(img_b[..., ::-1][0, :, 320, :], 'gray', vmin=0.01596, vmax=0.02356)"
   ]
  },
  {
   "cell_type": "code",
   "execution_count": null,
   "metadata": {},
   "outputs": [],
   "source": [
    "diff = (img_a - img_b) / 0.019 * 1000\n",
    "plt.figure(figsize=[8, 8])\n",
    "plt.imshow(diff[..., ::-1][0, 145, 64:-64, 64:-64], 'gray', vmin=0, vmax=250)"
   ]
  },
  {
   "cell_type": "code",
   "execution_count": null,
   "metadata": {},
   "outputs": [],
   "source": [
    "plt.figure(figsize=[8, 8])\n",
    "plt.imshow(diff[..., ::-1][0, :, 300, :], 'gray', vmin=0, vmax=250)"
   ]
  },
  {
   "cell_type": "code",
   "execution_count": null,
   "metadata": {},
   "outputs": [],
   "source": []
  }
 ],
 "metadata": {
  "interpreter": {
   "hash": "b1d64bdb33231402e3d6abad5d63b470b5b9ae20f4b606495879a50a618b7bd2"
  },
  "kernelspec": {
   "display_name": "Python 3.8.5 ('ct_projector')",
   "language": "python",
   "name": "python3"
  },
  "language_info": {
   "codemirror_mode": {
    "name": "ipython",
    "version": 3
   },
   "file_extension": ".py",
   "mimetype": "text/x-python",
   "name": "python",
   "nbconvert_exporter": "python",
   "pygments_lexer": "ipython3",
   "version": "3.8.5"
  },
  "orig_nbformat": 4
 },
 "nbformat": 4,
 "nbformat_minor": 2
}
